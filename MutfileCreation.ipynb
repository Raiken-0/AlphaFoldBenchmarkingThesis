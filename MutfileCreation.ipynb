{
 "cells": [
  {
   "cell_type": "code",
   "execution_count": 6,
   "id": "4339ab46",
   "metadata": {},
   "outputs": [],
   "source": [
    "import pandas\n",
    "import numpy"
   ]
  },
  {
   "cell_type": "code",
   "execution_count": 7,
   "id": "a0c530a1",
   "metadata": {},
   "outputs": [],
   "source": [
    "SKEMPI = pandas.read_csv(\"skempi_v2.csv\", sep = \";\")\n",
    "PDBList = (\"1JTG\", \"5E9D\", \"3SZK\", \"3BN9\", \"2J0T\", \"1KTZ\", \"3SGB\", \"3MZG\", \"1DAN\", \"1VFB\", \"1OGA\")\n",
    "PDBList2 = (\"1JTG_A_B\", \"5E9D_AB_CDE\", \"3SZK_AB_C\", \"3BN9_B_CD\", \"2J0T_A_D\",\n",
    "           \"1KTZ_A_B\", \"3SGB_E_I\", \"3MZG_A_B\", \"1DAN_HL_UT\", \"1VFB_AB_C\", \"1OGA_ABC_DE\")\n",
    "PDBList3 = (\"1PPF_E_I\", \"1AO7_ABC_DE\", \"1CHO_EFG_I\", \"1R0R_E_I\", \"1MHP_HL_A\", \"3HFM_HL_Y\",\n",
    "           \"1KNE_A_P\", \"2JEL_LH_P\", \"2FTL_E_I\", \"1IAR_A_B\")"
   ]
  },
  {
   "cell_type": "code",
   "execution_count": 8,
   "id": "b68de91d",
   "metadata": {},
   "outputs": [
    {
     "data": {
      "text/plain": [
       "1452"
      ]
     },
     "execution_count": 8,
     "metadata": {},
     "output_type": "execute_result"
    }
   ],
   "source": [
    "filtered_SKEMPI = SKEMPI[SKEMPI[\"#Pdb\"].isin(PDBList3)]\n",
    "len(filtered_SKEMPI)"
   ]
  },
  {
   "cell_type": "code",
   "execution_count": 9,
   "id": "b87449fc",
   "metadata": {},
   "outputs": [
    {
     "data": {
      "text/plain": [
       "1071"
      ]
     },
     "execution_count": 9,
     "metadata": {},
     "output_type": "execute_result"
    }
   ],
   "source": [
    "filtered_df = filtered_SKEMPI[filtered_SKEMPI['Mutation(s)_cleaned'].str.len() <= 7]\n",
    "len(filtered_df)"
   ]
  },
  {
   "cell_type": "code",
   "execution_count": 25,
   "id": "b50b5573",
   "metadata": {},
   "outputs": [],
   "source": [
    "def create_mutfile(PDB, filename):\n",
    "    #filename = PDB + \".txt\"\n",
    "    PDB = [PDB]\n",
    "    muts = filtered_df[filtered_df['#Pdb'].isin(PDB)]\n",
    "    mutlist = []\n",
    "    nums = 1234567890\n",
    "    for each in muts['Mutation(s)_cleaned']:\n",
    "        residue_num = ''.join([char for char in each if char.isdigit()])\n",
    "        chain = each[1]\n",
    "        if (PDB[0] == \"1PPF_E_I\" or PDB[0] == \"1R0R_E_I\" or PDB[0] == \"2FTL_E_I\"):\n",
    "            if (chain == \"E\"):\n",
    "                chain = \"A\"\n",
    "            elif (chain == \"I\"):\n",
    "                chain = \"B\"\n",
    "        elif (PDB[0] == \"1CHO_EFG_I\"):\n",
    "            if (chain == \"E\"):\n",
    "                chain = \"A\"\n",
    "            elif (chain == \"F\"):\n",
    "                chain = \"B\"\n",
    "            elif (chain == \"G\"):\n",
    "                chain = \"C\"\n",
    "            else:\n",
    "                chain = \"D\"\n",
    "        elif (PDB[0] == \"1MHP_HL_A\" or PDB[0] == \"3HFM_HL_Y\"):\n",
    "            if (chain == \"A\" or chain == \"Y\"):\n",
    "                chain = \"C\"\n",
    "            elif (chain == \"H\"):\n",
    "                chain = \"A\"\n",
    "            elif (chain == \"L\"):\n",
    "                chain = \"B\"\n",
    "            else:\n",
    "                chain = \"D\"\n",
    "        elif (PDB[0] == \"2JEL_LH_P\"):\n",
    "            if (chain == \"L\"):\n",
    "                chain = \"A\"\n",
    "            elif (chain == \"H\"):\n",
    "                chain = \"C\"\n",
    "            elif (chain == \"P\"):\n",
    "                chain = \"C\"\n",
    "            else:\n",
    "                chain = \"D\"\n",
    "        elif (PDB[0] == \"1KNE_A_P\"):\n",
    "            if (chain == \"P\"):\n",
    "                chain = \"B\"\n",
    "        mut = (each[0] + \" \" + chain + str(residue_num) + \" \" + each[-1])\n",
    "        mutlist.append(mut)\n",
    "        \n",
    "    mutfile = open(filename, \"w\")\n",
    "    for each in mutlist:\n",
    "        mutfile.write(each)\n",
    "        mutfile.write(\"\\n\")\n",
    "    mutfile.close()"
   ]
  },
  {
   "cell_type": "code",
   "execution_count": 26,
   "id": "17148633",
   "metadata": {},
   "outputs": [],
   "source": [
    "for each in PDBList3:\n",
    "    filename = str(each) + \"_mutfile.txt\"\n",
    "    create_mutfile(each, filename)"
   ]
  },
  {
   "cell_type": "code",
   "execution_count": 70,
   "id": "8d245d04",
   "metadata": {},
   "outputs": [
    {
     "name": "stdout",
     "output_type": "stream",
     "text": [
      "458\n",
      "0.6122994652406417\n"
     ]
    }
   ],
   "source": [
    "tally = 0\n",
    "for each in filtered_df[\"Mutation(s)_PDB\"]:\n",
    "    if (each[-1] == \"A\"):\n",
    "        tally += 1\n",
    "print(tally)\n",
    "print(tally/748)"
   ]
  },
  {
   "cell_type": "code",
   "execution_count": 93,
   "id": "b9a78c55",
   "metadata": {},
   "outputs": [],
   "source": [
    "mut_1PPF = pandas.read_csv(\"Mutfiles/1IAR_mutfile.txt\", sep = \" \", header = None)"
   ]
  },
  {
   "cell_type": "code",
   "execution_count": 94,
   "id": "dcd98a10",
   "metadata": {},
   "outputs": [
    {
     "name": "stdout",
     "output_type": "stream",
     "text": [
      "20\n"
     ]
    }
   ],
   "source": [
    "length = len(mut_1PPF)\n",
    "print(length)"
   ]
  },
  {
   "cell_type": "code",
   "execution_count": 95,
   "id": "9504bc19",
   "metadata": {},
   "outputs": [
    {
     "name": "stdout",
     "output_type": "stream",
     "text": [
      "[]\n",
      "[]\n"
     ]
    }
   ],
   "source": [
    "mut = mut_1PPF\n",
    "i = 0\n",
    "matches = []\n",
    "while i < len(mut):\n",
    "    i = i + 1\n",
    "    j = i\n",
    "    while j < len(mut):\n",
    "        if (mut[1][i] == mut[1][j] and mut[2][i] != mut[2][j]):\n",
    "            matches.append(mut[1][i])\n",
    "        j = j + 1\n",
    "i = 0\n",
    "print(matches)\n",
    "print(numpy.unique(matches))"
   ]
  },
  {
   "cell_type": "code",
   "execution_count": null,
   "id": "a5339aa3",
   "metadata": {},
   "outputs": [],
   "source": [
    "for each in SKEMPI[\"Mutation(s)_PDB\"]:\n",
    "    if (each[-1] != \"A\"):\n",
    "        "
   ]
  }
 ],
 "metadata": {
  "kernelspec": {
   "display_name": "Python [conda env:base] *",
   "language": "python",
   "name": "conda-base-py"
  },
  "language_info": {
   "codemirror_mode": {
    "name": "ipython",
    "version": 3
   },
   "file_extension": ".py",
   "mimetype": "text/x-python",
   "name": "python",
   "nbconvert_exporter": "python",
   "pygments_lexer": "ipython3",
   "version": "3.12.7"
  }
 },
 "nbformat": 4,
 "nbformat_minor": 5
}
